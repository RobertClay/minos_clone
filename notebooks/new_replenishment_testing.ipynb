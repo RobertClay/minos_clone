{
 "cells": [
  {
   "cell_type": "code",
   "execution_count": 134,
   "metadata": {
    "collapsed": true
   },
   "outputs": [],
   "source": [
    "import numpy as np\n",
    "import pandas as pd"
   ]
  },
  {
   "cell_type": "code",
   "execution_count": 135,
   "outputs": [],
   "source": [
    "dataDir = '/home/luke/Documents/MINOS/Minos/data/'\n",
    "\n",
    "baseFile = dataDir + 'final_US/2018_US_cohort.csv'"
   ],
   "metadata": {
    "collapsed": false,
    "pycharm": {
     "name": "#%%\n"
    }
   }
  },
  {
   "cell_type": "code",
   "execution_count": 136,
   "outputs": [],
   "source": [
    "dat = pd.read_csv(baseFile)"
   ],
   "metadata": {
    "collapsed": false,
    "pycharm": {
     "name": "#%%\n"
    }
   }
  },
  {
   "cell_type": "code",
   "execution_count": 137,
   "outputs": [
    {
     "data": {
      "text/plain": "28191"
     },
     "execution_count": 137,
     "metadata": {},
     "output_type": "execute_result"
    }
   ],
   "source": [
    "len(dat)"
   ],
   "metadata": {
    "collapsed": false,
    "pycharm": {
     "name": "#%%\n"
    }
   }
  },
  {
   "cell_type": "code",
   "execution_count": 138,
   "outputs": [
    {
     "data": {
      "text/plain": "272"
     },
     "execution_count": 138,
     "metadata": {},
     "output_type": "execute_result"
    }
   ],
   "source": [
    "new_wave = dat[(dat['age'] == 16)]\n",
    "len(new_wave)"
   ],
   "metadata": {
    "collapsed": false,
    "pycharm": {
     "name": "#%%\n"
    }
   }
  },
  {
   "cell_type": "code",
   "execution_count": 139,
   "outputs": [
    {
     "name": "stdout",
     "output_type": "stream",
     "text": [
      "Age: 0, Count: 0\n",
      "Age: 1, Count: 0\n",
      "Age: 2, Count: 0\n",
      "Age: 3, Count: 0\n",
      "Age: 4, Count: 0\n",
      "Age: 5, Count: 0\n",
      "Age: 6, Count: 0\n",
      "Age: 7, Count: 0\n",
      "Age: 8, Count: 0\n",
      "Age: 9, Count: 0\n",
      "Age: 10, Count: 0\n",
      "Age: 11, Count: 0\n",
      "Age: 12, Count: 0\n",
      "Age: 13, Count: 0\n",
      "Age: 14, Count: 0\n",
      "Age: 15, Count: 0\n",
      "Age: 16, Count: 272\n",
      "Age: 17, Count: 451\n",
      "Age: 18, Count: 439\n",
      "Age: 19, Count: 442\n",
      "Age: 20, Count: 393\n",
      "Age: 21, Count: 424\n",
      "Age: 22, Count: 381\n",
      "Age: 23, Count: 375\n",
      "Age: 24, Count: 294\n",
      "Age: 25, Count: 419\n",
      "Age: 26, Count: 392\n",
      "Age: 27, Count: 328\n",
      "Age: 28, Count: 364\n",
      "Age: 29, Count: 329\n",
      "Age: 30, Count: 348\n",
      "Age: 31, Count: 386\n",
      "Age: 32, Count: 326\n",
      "Age: 33, Count: 371\n",
      "Age: 34, Count: 393\n",
      "Age: 35, Count: 393\n",
      "Age: 36, Count: 415\n",
      "Age: 37, Count: 410\n",
      "Age: 38, Count: 488\n",
      "Age: 39, Count: 458\n",
      "Age: 40, Count: 432\n",
      "Age: 41, Count: 471\n",
      "Age: 42, Count: 422\n",
      "Age: 43, Count: 449\n",
      "Age: 44, Count: 500\n",
      "Age: 45, Count: 501\n",
      "Age: 46, Count: 499\n",
      "Age: 47, Count: 503\n",
      "Age: 48, Count: 556\n",
      "Age: 49, Count: 519\n",
      "Age: 50, Count: 555\n",
      "Age: 51, Count: 554\n",
      "Age: 52, Count: 529\n",
      "Age: 53, Count: 516\n",
      "Age: 54, Count: 507\n",
      "Age: 55, Count: 512\n",
      "Age: 56, Count: 532\n",
      "Age: 57, Count: 491\n",
      "Age: 58, Count: 516\n",
      "Age: 59, Count: 507\n",
      "Age: 60, Count: 489\n",
      "Age: 61, Count: 499\n",
      "Age: 62, Count: 434\n",
      "Age: 63, Count: 435\n",
      "Age: 64, Count: 428\n",
      "Age: 65, Count: 448\n",
      "Age: 66, Count: 383\n",
      "Age: 67, Count: 413\n",
      "Age: 68, Count: 374\n",
      "Age: 69, Count: 392\n",
      "Age: 70, Count: 450\n",
      "Age: 71, Count: 435\n",
      "Age: 72, Count: 432\n",
      "Age: 73, Count: 341\n",
      "Age: 74, Count: 324\n",
      "Age: 75, Count: 289\n",
      "Age: 76, Count: 260\n",
      "Age: 77, Count: 254\n",
      "Age: 78, Count: 219\n",
      "Age: 79, Count: 197\n",
      "Age: 80, Count: 189\n",
      "Age: 81, Count: 184\n",
      "Age: 82, Count: 143\n",
      "Age: 83, Count: 154\n",
      "Age: 84, Count: 117\n",
      "Age: 85, Count: 98\n",
      "Age: 86, Count: 87\n",
      "Age: 87, Count: 79\n",
      "Age: 88, Count: 63\n",
      "Age: 89, Count: 61\n",
      "Age: 90, Count: 51\n",
      "Age: 91, Count: 26\n",
      "Age: 92, Count: 23\n",
      "Age: 93, Count: 22\n",
      "Age: 94, Count: 11\n",
      "Age: 95, Count: 10\n",
      "Age: 96, Count: 5\n",
      "Age: 97, Count: 4\n",
      "Age: 98, Count: 2\n",
      "Age: 99, Count: 2\n",
      "Age: 100, Count: 1\n",
      "Age: 101, Count: 0\n",
      "Age: 102, Count: 1\n",
      "Age: 103, Count: 0\n",
      "Age: 104, Count: 0\n",
      "Age: 105, Count: 0\n",
      "Age: 106, Count: 0\n",
      "Age: 107, Count: 0\n",
      "Age: 108, Count: 0\n",
      "Age: 109, Count: 0\n"
     ]
    }
   ],
   "source": [
    "for a in range(0,110):\n",
    "    print(f\"Age: {a}, Count: {len(dat[(dat['age'] == a)])}\")\n"
   ],
   "metadata": {
    "collapsed": false,
    "pycharm": {
     "name": "#%%\n"
    }
   }
  },
  {
   "cell_type": "markdown",
   "source": [
    "Testing above shows that the 16 year old group has 272 members, whilst the range of counts for each age group is generally between 250-500 for the 16-~80 year olds. This could be an issue, as we will be shrinking our population over time. To combat this, we could take the 16 year olds from 2 waves of the survey (i.e. from 2018 & 2019) and call this a single cohort.\n",
    "\n",
    "Now lets check the outputs to see how many of each age group we have, and whether there is a reduction in the overall sample."
   ],
   "metadata": {
    "collapsed": false,
    "pycharm": {
     "name": "#%% md\n"
    }
   }
  },
  {
   "cell_type": "code",
   "execution_count": 140,
   "outputs": [],
   "source": [
    "# Run 1 (this one) is the original with no modification to the replenishing population\n",
    "\n",
    "outDir = '/home/luke/Documents/MINOS/Minos/output/'\n",
    "run = '2022_08_16_14_12_53/'\n",
    "\n",
    "dat1 = pd.read_csv(outDir + run + 'simulation_data/' + '2012.csv')\n",
    "dat2 = pd.read_csv(outDir + run + 'simulation_data/' + '2013.csv')\n",
    "dat3 = pd.read_csv(outDir + run + 'simulation_data/' + '2014.csv')\n",
    "dat4 = pd.read_csv(outDir + run + 'simulation_data/' + '2015.csv')\n",
    "dat5 = pd.read_csv(outDir + run + 'simulation_data/' + '2016.csv')\n",
    "\n",
    "#dat1.columns"
   ],
   "metadata": {
    "collapsed": false,
    "pycharm": {
     "name": "#%%\n"
    }
   }
  },
  {
   "cell_type": "code",
   "execution_count": 141,
   "outputs": [
    {
     "name": "stdout",
     "output_type": "stream",
     "text": [
      "38847\n",
      "38475\n",
      "38132\n",
      "37699\n",
      "37322\n",
      "1\n",
      "1\n",
      "1\n",
      "1\n",
      "1\n",
      "23.0     805\n",
      "49.0     804\n",
      "46.0     802\n",
      "47.0     800\n",
      "48.0     798\n",
      "        ... \n",
      "19.0       2\n",
      "100.0      2\n",
      "101.0      2\n",
      "103.0      1\n",
      "16.0       1\n",
      "Name: age, Length: 84, dtype: int64\n"
     ]
    }
   ],
   "source": [
    "print(len(dat1[(dat1['alive'] == 'alive')]))\n",
    "print(len(dat2[(dat2['alive'] == 'alive')]))\n",
    "print(len(dat3[(dat3['alive'] == 'alive')]))\n",
    "print(len(dat4[(dat4['alive'] == 'alive')]))\n",
    "print(len(dat5[(dat5['alive'] == 'alive')]))\n",
    "\n",
    "print(len(dat1[(dat1['age'] == 16)]))\n",
    "print(len(dat2[(dat2['age'] == 16)]))\n",
    "print(len(dat3[(dat3['age'] == 16)]))\n",
    "print(len(dat4[(dat4['age'] == 16)]))\n",
    "print(len(dat5[(dat5['age'] == 16)]))\n",
    "\n",
    "print(dat5['age'].value_counts())"
   ],
   "metadata": {
    "collapsed": false,
    "pycharm": {
     "name": "#%%\n"
    }
   }
  },
  {
   "cell_type": "code",
   "execution_count": 142,
   "outputs": [
    {
     "name": "stdout",
     "output_type": "stream",
     "text": [
      "38875\n",
      "38543\n",
      "38161\n",
      "37752\n",
      "37373\n",
      "0\n",
      "0\n",
      "0\n",
      "0\n",
      "0\n",
      "23.0     809\n",
      "47.0     809\n",
      "46.0     804\n",
      "48.0     799\n",
      "49.0     799\n",
      "        ... \n",
      "20.0       1\n",
      "104.0      1\n",
      "102.0      1\n",
      "18.0       1\n",
      "19.0       1\n",
      "Name: age, Length: 87, dtype: int64\n"
     ]
    }
   ],
   "source": [
    "run2 = '2022_08_16_14_17_10/'\n",
    "\n",
    "dat11 = pd.read_csv(outDir + run2 + 'simulation_data/' + '2012.csv')\n",
    "dat12 = pd.read_csv(outDir + run2 + 'simulation_data/' + '2013.csv')\n",
    "dat13 = pd.read_csv(outDir + run2 + 'simulation_data/' + '2014.csv')\n",
    "dat14 = pd.read_csv(outDir + run2 + 'simulation_data/' + '2015.csv')\n",
    "dat15 = pd.read_csv(outDir + run2 + 'simulation_data/' + '2016.csv')\n",
    "\n",
    "print(len(dat11[(dat11['alive'] == 'alive')]))\n",
    "print(len(dat12[(dat12['alive'] == 'alive')]))\n",
    "print(len(dat13[(dat13['alive'] == 'alive')]))\n",
    "print(len(dat14[(dat14['alive'] == 'alive')]))\n",
    "print(len(dat15[(dat15['alive'] == 'alive')]))\n",
    "\n",
    "print(len(dat11[(dat11['age'] == 16)]))\n",
    "print(len(dat12[(dat12['age'] == 16)]))\n",
    "print(len(dat13[(dat13['age'] == 16)]))\n",
    "print(len(dat14[(dat14['age'] == 16)]))\n",
    "print(len(dat15[(dat15['age'] == 16)]))\n",
    "\n",
    "print(dat15['age'].value_counts())"
   ],
   "metadata": {
    "collapsed": false,
    "pycharm": {
     "name": "#%%\n"
    }
   }
  },
  {
   "cell_type": "markdown",
   "source": [
    "So there seems to be no 16 year olds in either of the runs, with our without the replenishment change. Need to test the input data files and see if we're removing them elsewhere or something."
   ],
   "metadata": {
    "collapsed": false,
    "pycharm": {
     "name": "#%% md\n"
    }
   }
  },
  {
   "cell_type": "code",
   "execution_count": 143,
   "outputs": [],
   "source": [
    "rawFile = dataDir + 'raw_US/2018_US_cohort.csv'\n",
    "\n",
    "rawDat = pd.read_csv(rawFile)"
   ],
   "metadata": {
    "collapsed": false,
    "pycharm": {
     "name": "#%%\n"
    }
   }
  },
  {
   "cell_type": "code",
   "execution_count": 144,
   "outputs": [
    {
     "name": "stdout",
     "output_type": "stream",
     "text": [
      "404\n"
     ]
    }
   ],
   "source": [
    "print(len(rawDat[(rawDat['age'] == 16)]))"
   ],
   "metadata": {
    "collapsed": false,
    "pycharm": {
     "name": "#%%\n"
    }
   }
  },
  {
   "cell_type": "markdown",
   "source": [
    "Definitely do have 16 year olds in the raw files then, must be removing them somewhere. Need to check the data generation pipeline."
   ],
   "metadata": {
    "collapsed": false,
    "pycharm": {
     "name": "#%% md\n"
    }
   }
  },
  {
   "cell_type": "code",
   "execution_count": 145,
   "outputs": [
    {
     "name": "stdout",
     "output_type": "stream",
     "text": [
      "300\n"
     ]
    }
   ],
   "source": [
    "correctedFile = dataDir + 'corrected_US/2018_US_cohort.csv'\n",
    "correctedDat = pd.read_csv(correctedFile)\n",
    "print(len(correctedDat[(correctedDat['age'] == 16)]))"
   ],
   "metadata": {
    "collapsed": false,
    "pycharm": {
     "name": "#%%\n"
    }
   }
  },
  {
   "cell_type": "code",
   "execution_count": 146,
   "outputs": [
    {
     "name": "stdout",
     "output_type": "stream",
     "text": [
      "300\n"
     ]
    }
   ],
   "source": [
    "compositeFile = dataDir + 'composite_US/2018_US_cohort.csv'\n",
    "compositeDat = pd.read_csv(compositeFile)\n",
    "print(len(compositeDat[(compositeDat['age'] == 16)]))"
   ],
   "metadata": {
    "collapsed": false,
    "pycharm": {
     "name": "#%%\n"
    }
   }
  },
  {
   "cell_type": "code",
   "execution_count": 147,
   "outputs": [
    {
     "name": "stdout",
     "output_type": "stream",
     "text": [
      "272\n"
     ]
    }
   ],
   "source": [
    "finalFile = dataDir + 'final_US/2018_US_cohort.csv'\n",
    "finalDat = pd.read_csv(finalFile)\n",
    "print(len(finalDat[(finalDat['age'] == 16)]))\n",
    "\n",
    "final_ages = finalDat['age'].value_counts()\n",
    "final_ages = final_ages.sort_index()"
   ],
   "metadata": {
    "collapsed": false,
    "pycharm": {
     "name": "#%%\n"
    }
   }
  },
  {
   "cell_type": "markdown",
   "source": [
    "We have identified the problem!! Every dataset apart from the final_US data includes 16 year olds, and so the step that must be removing the younger ages is the complete case in `US_complete_case.py`. There are a couple of possible reasons for missing data across all ages:\n",
    "- Missing labour state\n",
    "- Missing education state\n",
    "- Some information (such as ethnicity) is recorded in the youth dataset and not filled in for anyone under that age of 18 (as 19 is the youngest age seen in the"
   ],
   "metadata": {
    "collapsed": false
   }
  },
  {
   "cell_type": "code",
   "execution_count": 148,
   "outputs": [],
   "source": [
    "repl = pd.read_csv(dataDir + 'replenishing/replenishing_pop_2019-2070.csv')"
   ],
   "metadata": {
    "collapsed": false,
    "pycharm": {
     "name": "#%%\n"
    }
   }
  },
  {
   "cell_type": "code",
   "execution_count": 149,
   "outputs": [
    {
     "name": "stdout",
     "output_type": "stream",
     "text": [
      "0    2.000858\n",
      "Name: weight, dtype: float64\n",
      "Series([], Name: weight, dtype: float64)\n"
     ]
    }
   ],
   "source": [
    "# 216976903\n",
    "# 69199241\n",
    "\n",
    "person1 = 69199241\n",
    "person1_2 = person1 + 2029 + 1000000\n",
    "\n",
    "record1 = repl[(repl['pidp'] == person1)]\n",
    "record1_2 = repl[(repl['pidp'] == person1_2)]\n",
    "\n",
    "print(record1['weight'])\n",
    "print(record1_2['weight'])\n"
   ],
   "metadata": {
    "collapsed": false,
    "pycharm": {
     "name": "#%%\n"
    }
   }
  },
  {
   "cell_type": "code",
   "execution_count": 150,
   "outputs": [],
   "source": [
    "# test the reweight here\n",
    "repl = pd.read_csv(dataDir + 'replenishing/replenishing_pop_2019-2070.csv')\n",
    "summed_weights = repl.groupby(['sex', 'time'])['weight'].sum().reset_index()\n",
    "summed_weights = summed_weights.rename(columns = {'weight':'sum_weight', 'year':'time'})\n",
    "projections = pd.read_csv('/home/luke/Documents/MINOS/Minos/persistent_data/pop_projections_2008-2070.csv')\n",
    "projections = projections.drop(labels = 'Unnamed: 0', axis=1)\n",
    "projections = projections.rename(columns = {'year':'time'})\n",
    "\n",
    "new_repl = repl\n",
    "\n",
    "# now reweight new population file\n",
    "#for sex in ['Male', 'Female']:\n",
    "#    for year in range(2019, 2071, 1):\n",
    "#        new_repl['weight'][(new_repl['sex'] == sex) & (new_repl['time'] == year)] = (new_repl['weight'] * projections['count'][(projections['sex'] == sex) & projections['year'] == year]) / summed_weights['weight'][(summed_weights['sex'] == sex) & (summed_weights['time'] == year)]\n",
    "\n",
    "new_repl['new_weight'] = pd.NA\n",
    "new_repl = new_repl.merge(projections, on = ['time', 'sex', 'age'])\n",
    "new_repl = new_repl.merge(summed_weights, on = ['time', 'sex'])\n",
    "\n",
    "\n",
    "#for sex in ['Male', 'Female']:\n",
    "#    for year in range(2019, 2071, 1):\n",
    "new_repl['new_weight'] = (new_repl['weight'] * new_repl['count']) / new_repl['sum_weight']\n"
   ],
   "metadata": {
    "collapsed": false,
    "pycharm": {
     "name": "#%%\n"
    }
   }
  },
  {
   "cell_type": "code",
   "execution_count": 152,
   "outputs": [
    {
     "name": "stdout",
     "output_type": "stream",
     "text": [
      "551    0.964942\n",
      "Name: weight, dtype: float64\n",
      "546    0.964942\n",
      "Name: weight, dtype: float64\n",
      "546    4266.878148\n",
      "Name: new_weight, dtype: float64\n"
     ]
    }
   ],
   "source": [
    "print(repl['weight'][(repl['pidp'] == 71820040)])\n",
    "print(new_repl['weight'][(new_repl['pidp'] == 71820040)])\n",
    "print(new_repl['new_weight'][(new_repl['pidp'] == 71820040)])"
   ],
   "metadata": {
    "collapsed": false,
    "pycharm": {
     "name": "#%%\n"
    }
   }
  },
  {
   "cell_type": "code",
   "execution_count": 151,
   "outputs": [],
   "source": [],
   "metadata": {
    "collapsed": false,
    "pycharm": {
     "name": "#%%\n"
    }
   }
  }
 ],
 "metadata": {
  "kernelspec": {
   "display_name": "Python 3",
   "language": "python",
   "name": "python3"
  },
  "language_info": {
   "codemirror_mode": {
    "name": "ipython",
    "version": 2
   },
   "file_extension": ".py",
   "mimetype": "text/x-python",
   "name": "python",
   "nbconvert_exporter": "python",
   "pygments_lexer": "ipython2",
   "version": "2.7.6"
  }
 },
 "nbformat": 4,
 "nbformat_minor": 0
}